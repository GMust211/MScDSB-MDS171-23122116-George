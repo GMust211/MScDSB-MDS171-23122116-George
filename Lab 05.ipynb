{
 "cells": [
  {
   "cell_type": "code",
   "execution_count": 23,
   "metadata": {},
   "outputs": [
    {
     "name": "stdout",
     "output_type": "stream",
     "text": [
      "Your enterd string is :  heloo world\n",
      "Number of Vowels in the string are :  4\n"
     ]
    }
   ],
   "source": [
    "#enter any sentance\n",
    "string = str(input(\"Enter any words : \"))\n",
    "#lower case the string enterd to match the vowels\n",
    "string = string.lower()\n",
    "#declare count variable \n",
    "vcount = 0\n",
    "#declare vowels with if condition and added to vowels using 'append'\n",
    "vowels = [] \n",
    "for i in string:\n",
    "    if i == 'a':\n",
    "        vcount = vcount + 1\n",
    "        vowels.append(i)\n",
    "    elif i == 'e':\n",
    "        vcount = vcount + 1\n",
    "        vowels.append(i)\n",
    "    elif i == 'o':\n",
    "        vcount = vcount + 1\n",
    "        vowels.append(i)\n",
    "    elif i == 'u':\n",
    "        vcount = vcount + 1\n",
    "        vowels.append(i)\n",
    "    elif i == 'i':\n",
    "        vcount = vcount + 1\n",
    "        vowels.append(i)\n",
    "print(\"Your enterd string is : \",(string))\n",
    "print(\"Number of Vowels in the string are : \",(vcount))\n"
   ]
  },
  {
   "cell_type": "code",
   "execution_count": 33,
   "metadata": {},
   "outputs": [
    {
     "name": "stdout",
     "output_type": "stream",
     "text": [
      "['e', 'o', 'o', 'o']\n"
     ]
    }
   ],
   "source": [
    "print(vowels)"
   ]
  },
  {
   "cell_type": "code",
   "execution_count": 39,
   "metadata": {},
   "outputs": [
    {
     "name": "stdout",
     "output_type": "stream",
     "text": [
      "o 3\n",
      "e 1\n"
     ]
    }
   ],
   "source": [
    "#print the number of vowles as nov and count of the vowles\n",
    "nov = set(vowels)\n",
    "for i in nov:\n",
    "    vcount = 0\n",
    "    for item in string:\n",
    "        if i == item:\n",
    "            vcount = vcount+1\n",
    "    print(i,vcount)"
   ]
  },
  {
   "cell_type": "code",
   "execution_count": 43,
   "metadata": {},
   "outputs": [
    {
     "name": "stdout",
     "output_type": "stream",
     "text": [
      "Number of Vowels in the string :  4\n",
      "Total length of the string :  11\n",
      "The Percentage of the Number of Vowels enterd :  36.36363636363637\n"
     ]
    }
   ],
   "source": [
    "#declaring perc for percentage of the vowels in the string and calculation for finding the percentage\n",
    "print(\"Number of Vowels in the string : \",len(vowels))\n",
    "print(\"Total length of the string : \",len(string))\n",
    "perc = len(vowels)/len(string)*100\n",
    "print(\"The Percentage of the Number of Vowels enterd : \",(perc))"
   ]
  },
  {
   "cell_type": "code",
   "execution_count": null,
   "metadata": {},
   "outputs": [],
   "source": []
  }
 ],
 "metadata": {
  "kernelspec": {
   "display_name": "Python 3",
   "language": "python",
   "name": "python3"
  },
  "language_info": {
   "codemirror_mode": {
    "name": "ipython",
    "version": 3
   },
   "file_extension": ".py",
   "mimetype": "text/x-python",
   "name": "python",
   "nbconvert_exporter": "python",
   "pygments_lexer": "ipython3",
   "version": "3.11.4"
  },
  "orig_nbformat": 4
 },
 "nbformat": 4,
 "nbformat_minor": 2
}
