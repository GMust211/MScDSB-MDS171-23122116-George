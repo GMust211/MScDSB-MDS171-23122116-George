{
 "cells": [
  {
   "cell_type": "code",
   "execution_count": 1,
   "metadata": {},
   "outputs": [
    {
     "name": "stdout",
     "output_type": "stream",
     "text": [
      "one\n"
     ]
    }
   ],
   "source": [
    "a = 1\n",
    "if a ==5:\n",
    "    print(\"print five\")\n",
    "elif a == 1:\n",
    "    print(\"one\")\n",
    "else:\n",
    "    print(\"nothing\")"
   ]
  },
  {
   "cell_type": "markdown",
   "metadata": {},
   "source": [
    "based on the user input print the corresponding day of the week if 1 -> sunday, if 2-> monday.."
   ]
  },
  {
   "cell_type": "code",
   "execution_count": 2,
   "metadata": {},
   "outputs": [
    {
     "name": "stdout",
     "output_type": "stream",
     "text": [
      "its THURSDAY\n"
     ]
    }
   ],
   "source": [
    "w = input(\"Enter a number from 1-7\")\n",
    "w = int(input())\n",
    "if w == 1:\n",
    "    print(\"its SUNDAY\")\n",
    "elif w == 2:\n",
    "    print(\"its MONDAY\")\n",
    "elif w == 3:\n",
    "    print(\"its TUESDAY\")\n",
    "elif w == 4:\n",
    "    print(\"its WEDNESDAY\")\n",
    "elif w == 5:\n",
    "    print(\"its THURSDAY\")\n",
    "elif w == 6:\n",
    "    print(\"its FRIDAY\")\n",
    "elif w == 7:\n",
    "    print(\"its SATURDAY\")\n",
    "else:\n",
    "    print(\"not a week day.\")"
   ]
  },
  {
   "cell_type": "markdown",
   "metadata": {},
   "source": [
    "Strings"
   ]
  },
  {
   "cell_type": "code",
   "execution_count": 3,
   "metadata": {},
   "outputs": [],
   "source": [
    "msg = \"this is a message\""
   ]
  },
  {
   "cell_type": "code",
   "execution_count": 4,
   "metadata": {},
   "outputs": [
    {
     "data": {
      "text/plain": [
       "str"
      ]
     },
     "execution_count": 4,
     "metadata": {},
     "output_type": "execute_result"
    }
   ],
   "source": [
    "type(msg)"
   ]
  },
  {
   "cell_type": "markdown",
   "metadata": {},
   "source": [
    "git add --all\n",
    "git config --global user.email \"george.thomas@msds.christuniversity.in\"\n",
    "git config --global user.name \"George Thomas\"\n",
    "git commit -m \"update on README.md\"\n",
    "get push"
   ]
  },
  {
   "cell_type": "code",
   "execution_count": 9,
   "metadata": {},
   "outputs": [
    {
     "name": "stdout",
     "output_type": "stream",
     "text": [
      "17\n"
     ]
    },
    {
     "data": {
      "text/plain": [
       "22"
      ]
     },
     "execution_count": 9,
     "metadata": {},
     "output_type": "execute_result"
    }
   ],
   "source": [
    "print(len(msg))\n",
    "len(\"length of this message\")"
   ]
  },
  {
   "cell_type": "code",
   "execution_count": 15,
   "metadata": {},
   "outputs": [
    {
     "name": "stdout",
     "output_type": "stream",
     "text": [
      "this is a message\n"
     ]
    },
    {
     "data": {
      "text/plain": [
       "'THIS IS A MESSAGE'"
      ]
     },
     "execution_count": 15,
     "metadata": {},
     "output_type": "execute_result"
    }
   ],
   "source": [
    "print(msg)\n",
    "msg.upper()"
   ]
  },
  {
   "cell_type": "markdown",
   "metadata": {},
   "source": [
    "split(), strip(), format()"
   ]
  },
  {
   "cell_type": "code",
   "execution_count": 30,
   "metadata": {},
   "outputs": [
    {
     "name": "stdout",
     "output_type": "stream",
     "text": [
      "<class 'str'>\n",
      "25\n",
      "a,b,c\n",
      "5\n",
      "['                 a', 'b', 'c   ']\n"
     ]
    }
   ],
   "source": [
    "name = \"                 a,b,c   \"\n",
    "print(type(name))\n",
    "print(len(name))\n",
    "print(name.strip())\n",
    "print(len(name.strip()))\n",
    "num = \" 1,2,3 \"\n",
    "print(name.split(','))"
   ]
  },
  {
   "cell_type": "markdown",
   "metadata": {},
   "source": [
    "take the sum of given numbers:"
   ]
  },
  {
   "cell_type": "code",
   "execution_count": 49,
   "metadata": {},
   "outputs": [
    {
     "name": "stdout",
     "output_type": "stream",
     "text": [
      "15\n"
     ]
    }
   ],
   "source": [
    "num = (1,2,3,4,5)\n",
    "sum = 0 \n",
    "for item in num:\n",
    "    int(item)\n",
    "    sum = sum + item\n",
    "print(sum)\n",
    "    \n"
   ]
  },
  {
   "cell_type": "code",
   "execution_count": 54,
   "metadata": {},
   "outputs": [
    {
     "name": "stdout",
     "output_type": "stream",
     "text": [
      "Your User name is : joe\n",
      "Your Password is : joejoe\n"
     ]
    }
   ],
   "source": [
    "name = input(\"enter user name:\")\n",
    "password = input(\"enter user password:\")\n",
    "print(\"Your User name is : {}\\nYour Password is : {}\".format(name,password))"
   ]
  },
  {
   "cell_type": "markdown",
   "metadata": {},
   "source": [
    "find the sum of n multiples of 2 whether n is user input"
   ]
  },
  {
   "cell_type": "code",
   "execution_count": 70,
   "metadata": {},
   "outputs": [
    {
     "name": "stdout",
     "output_type": "stream",
     "text": [
      "20\n"
     ]
    }
   ],
   "source": [
    "n = int(input(\"enter any numbers : \"))\n",
    "sum = 0\n",
    "for i in range(2,n,2):\n",
    "    sum = sum + i\n",
    "print(sum)"
   ]
  },
  {
   "cell_type": "markdown",
   "metadata": {},
   "source": [
    "LIST"
   ]
  },
  {
   "cell_type": "code",
   "execution_count": 1,
   "metadata": {},
   "outputs": [
    {
     "name": "stdout",
     "output_type": "stream",
     "text": [
      "['one', 'two', 'three', 'four']\n"
     ]
    }
   ],
   "source": [
    "a = [\"one\",\"two\",\"three\",\"four\"]\n",
    "print(a)"
   ]
  },
  {
   "cell_type": "code",
   "execution_count": 2,
   "metadata": {},
   "outputs": [
    {
     "name": "stdout",
     "output_type": "stream",
     "text": [
      "four\n"
     ]
    }
   ],
   "source": [
    "print(a[3])"
   ]
  },
  {
   "cell_type": "code",
   "execution_count": 10,
   "metadata": {},
   "outputs": [
    {
     "name": "stdout",
     "output_type": "stream",
     "text": [
      "invalid\n"
     ]
    }
   ],
   "source": [
    "if \"Three\" in a:\n",
    "    print(\"success\")\n",
    "else:\n",
    "    print(\"invalid\")"
   ]
  },
  {
   "cell_type": "code",
   "execution_count": 14,
   "metadata": {},
   "outputs": [
    {
     "name": "stdout",
     "output_type": "stream",
     "text": [
      "['one', 'two', 'three', 'four', 'five', 'five', 'five', 'five']\n"
     ]
    }
   ],
   "source": [
    "a.append(\"five\")\n",
    "print(a)"
   ]
  },
  {
   "cell_type": "markdown",
   "metadata": {},
   "source": [
    "POP"
   ]
  },
  {
   "cell_type": "code",
   "execution_count": 17,
   "metadata": {},
   "outputs": [
    {
     "name": "stdout",
     "output_type": "stream",
     "text": [
      "['one', 'two', 'three', 'four', 'five']\n"
     ]
    }
   ],
   "source": [
    "a.pop()\n",
    "print(a)"
   ]
  },
  {
   "cell_type": "code",
   "execution_count": 27,
   "metadata": {},
   "outputs": [
    {
     "name": "stdout",
     "output_type": "stream",
     "text": [
      "['four', 'five']\n"
     ]
    }
   ],
   "source": [
    "a.remove(\"three\")\n",
    "print(a)"
   ]
  },
  {
   "cell_type": "markdown",
   "metadata": {},
   "source": [
    "pravi improve the programming "
   ]
  },
  {
   "cell_type": "markdown",
   "metadata": {},
   "source": [
    "sort()|reverse()\n"
   ]
  },
  {
   "cell_type": "markdown",
   "metadata": {},
   "source": [
    "Functions"
   ]
  },
  {
   "cell_type": "code",
   "execution_count": 57,
   "metadata": {},
   "outputs": [],
   "source": [
    "def fname(name):\n",
    "    print(\"i am yout first function\",name)\n",
    "    retVal = \"Success\"\n",
    "    return retVal, True"
   ]
  },
  {
   "cell_type": "code",
   "execution_count": 62,
   "metadata": {},
   "outputs": [
    {
     "name": "stdout",
     "output_type": "stream",
     "text": [
      "i am yout first function joe\n",
      "Success True\n"
     ]
    }
   ],
   "source": [
    "name = \"joe\"\n",
    "status, s = fname(name)\n",
    "print(status, s)"
   ]
  },
  {
   "cell_type": "code",
   "execution_count": null,
   "metadata": {},
   "outputs": [],
   "source": []
  },
  {
   "cell_type": "code",
   "execution_count": 91,
   "metadata": {},
   "outputs": [
    {
     "name": "stdout",
     "output_type": "stream",
     "text": [
      "2.5\n",
      "<class 'float'>\n"
     ]
    }
   ],
   "source": [
    "x = True\n",
    "y = 'True'\n",
    "z = x + 1.5\n",
    "print(z)\n",
    "print(type(z))"
   ]
  },
  {
   "cell_type": "code",
   "execution_count": 105,
   "metadata": {},
   "outputs": [
    {
     "name": "stdout",
     "output_type": "stream",
     "text": [
      "<class 'int'>\n",
      "5\n"
     ]
    }
   ],
   "source": [
    "week = {\"python\",\"c\",\"java\",\"r\",\"cpp\",\"python\",\"java\"}\n",
    "\n",
    "print(type(x))\n",
    "n = len(week)\n",
    "print(n)"
   ]
  },
  {
   "cell_type": "code",
   "execution_count": 108,
   "metadata": {},
   "outputs": [
    {
     "name": "stdout",
     "output_type": "stream",
     "text": [
      "50\n"
     ]
    }
   ],
   "source": [
    "var1 = 10\n",
    "var2 = 20\n",
    "var3 = '30'\n",
    "var1 = var2 + int(var3)\n",
    "print(var1)"
   ]
  },
  {
   "cell_type": "code",
   "execution_count": 112,
   "metadata": {},
   "outputs": [
    {
     "name": "stdout",
     "output_type": "stream",
     "text": [
      "<class 'bool'>\n"
     ]
    }
   ],
   "source": [
    "a = 'dsl'\n",
    "b = bool(a)\n",
    "print(type(b))"
   ]
  },
  {
   "cell_type": "code",
   "execution_count": 116,
   "metadata": {},
   "outputs": [
    {
     "ename": "TypeError",
     "evalue": "unsupported operand type(s) for +: 'int' and 'str'",
     "output_type": "error",
     "traceback": [
      "\u001b[1;31m---------------------------------------------------------------------------\u001b[0m",
      "\u001b[1;31mTypeError\u001b[0m                                 Traceback (most recent call last)",
      "Cell \u001b[1;32mIn[116], line 4\u001b[0m\n\u001b[0;32m      2\u001b[0m b \u001b[39m=\u001b[39m \u001b[39m\"\u001b[39m\u001b[39m20\u001b[39m\u001b[39m\"\u001b[39m\n\u001b[0;32m      3\u001b[0m c \u001b[39m=\u001b[39m a \u001b[39m+\u001b[39m b\n\u001b[1;32m----> 4\u001b[0m d \u001b[39m=\u001b[39m \u001b[39mint\u001b[39;49m(a) \u001b[39m+\u001b[39;49m b\n\u001b[0;32m      5\u001b[0m \u001b[39mprint\u001b[39m(d)\n",
      "\u001b[1;31mTypeError\u001b[0m: unsupported operand type(s) for +: 'int' and 'str'"
     ]
    }
   ],
   "source": [
    "a = \"10\"\n",
    "b = \"20\"\n",
    "c = a + b\n",
    "d = int(a) + b\n",
    "print(d)"
   ]
  },
  {
   "cell_type": "code",
   "execution_count": 152,
   "metadata": {},
   "outputs": [
    {
     "name": "stdout",
     "output_type": "stream",
     "text": [
      "-3.8000000000000007\n",
      "<class 'float'>\n"
     ]
    }
   ],
   "source": [
    "a = 4\n",
    "b = 6\n",
    "c = bool(a) + b - d\n",
    "d= False\n",
    "e = int(b+d)\n",
    "f = a + b\n",
    "\n",
    "print(c)\n",
    "print(type(c))\n"
   ]
  },
  {
   "cell_type": "markdown",
   "metadata": {},
   "source": [
    "define a function that takes in a list of numbers & return sum of numbers without any predefined function"
   ]
  },
  {
   "cell_type": "code",
   "execution_count": 1,
   "metadata": {},
   "outputs": [
    {
     "data": {
      "text/plain": [
       "921"
      ]
     },
     "execution_count": 1,
     "metadata": {},
     "output_type": "execute_result"
    }
   ],
   "source": [
    "def sumlist(lst):\n",
    "    sum=0\n",
    "    for item in lst:\n",
    "        sum=sum+item        #sum = item\n",
    "    return sum\n",
    "sumlist([2,5,6,8,100,800])"
   ]
  },
  {
   "cell_type": "code",
   "execution_count": 2,
   "metadata": {},
   "outputs": [
    {
     "name": "stdout",
     "output_type": "stream",
     "text": [
      "10\n",
      "20\n",
      "40\n",
      "50\n",
      "60\n",
      "80\n",
      "90\n"
     ]
    }
   ],
   "source": [
    "lst=[10,20,40,50,60,80,90]\n",
    "\n",
    "for item in lst:\n",
    "    print(item)"
   ]
  },
  {
   "cell_type": "code",
   "execution_count": 3,
   "metadata": {},
   "outputs": [
    {
     "name": "stdout",
     "output_type": "stream",
     "text": [
      "10\n",
      "20\n",
      "40\n",
      "50\n",
      "60\n",
      "80\n",
      "90\n"
     ]
    }
   ],
   "source": [
    "for item in range (0,len(lst),1):\n",
    "    print(lst[item])"
   ]
  },
  {
   "cell_type": "markdown",
   "metadata": {},
   "source": [
    "ASK USER TO ENTER VALUES SEPERATELY"
   ]
  },
  {
   "cell_type": "code",
   "execution_count": 4,
   "metadata": {},
   "outputs": [
    {
     "name": "stdout",
     "output_type": "stream",
     "text": [
      "6\n"
     ]
    }
   ],
   "source": [
    "def sumlist(a):\n",
    "    sum = 0\n",
    "    for item in a:\n",
    "        sum = sum + int(item)\n",
    "    return sum\n",
    "b = input(\"enter numbers : \").split(\",\")\n",
    "s = sumlist(b)\n",
    "print(s)"
   ]
  },
  {
   "cell_type": "markdown",
   "metadata": {},
   "source": [
    "count the number odd and even numbers in the list and print the odd number count and een number count along with then numbers\n",
    "you will have a f(), that will take a list of numbers, the n return the count of the odd numbers and even numbers and the new list of off numberts and even numebrs\n"
   ]
  },
  {
   "cell_type": "code",
   "execution_count": 5,
   "metadata": {},
   "outputs": [
    {
     "name": "stdout",
     "output_type": "stream",
     "text": [
      "count of the even numbers :  2\n",
      "list of even numbers :  ['2', '4']\n",
      "count of the odd numbers :  2\n",
      "list of odd numbers :  ['1', '3']\n"
     ]
    }
   ],
   "source": [
    "def odd_even(lst):\n",
    "    even=[]\n",
    "    odd=[]\n",
    "    for i in lst:\n",
    "        if(int(i)%2==0):\n",
    "            odd.append(i)\n",
    "        else:\n",
    "            even.append(i)\n",
    "    return odd,even\n",
    "numbers = input(\"enter any numbers: \").split(\",\")\n",
    "even, odd = odd_even(numbers)\n",
    "print(\"count of the even numbers : \" , len(even))\n",
    "print(\"list of even numbers : \" , even)\n",
    "print(\"count of the odd numbers : \" , len(odd))\n",
    "print(\"list of odd numbers : \" , odd)"
   ]
  },
  {
   "cell_type": "code",
   "execution_count": null,
   "metadata": {},
   "outputs": [],
   "source": []
  }
 ],
 "metadata": {
  "kernelspec": {
   "display_name": "Python 3",
   "language": "python",
   "name": "python3"
  },
  "language_info": {
   "codemirror_mode": {
    "name": "ipython",
    "version": 3
   },
   "file_extension": ".py",
   "mimetype": "text/x-python",
   "name": "python",
   "nbconvert_exporter": "python",
   "pygments_lexer": "ipython3",
   "version": "3.11.4"
  },
  "orig_nbformat": 4
 },
 "nbformat": 4,
 "nbformat_minor": 2
}
