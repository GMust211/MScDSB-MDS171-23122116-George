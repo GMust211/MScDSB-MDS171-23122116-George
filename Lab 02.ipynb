{
 "cells": [
  {
   "cell_type": "code",
   "execution_count": 22,
   "metadata": {},
   "outputs": [
    {
     "name": "stdout",
     "output_type": "stream",
     "text": [
      "Number Entered was :  98\n",
      "Converted to word it becomes:  98nineeight\n"
     ]
    }
   ],
   "source": [
    "arr = ['zero','one','two','three','four','five','six','seven','eight','nine']\n",
    " \n",
    "def number_2_word(n):\n",
    "    str_ret = n\n",
    "    for x in n:\n",
    "        str_ret+=arr[int(x)]\n",
    "    return str_ret\n",
    " \n",
    "n = input()\n",
    "print(\"Number Entered was : \", n)\n",
    "print(\"Converted to word it becomes: \", number_2_word(n))"
   ]
  },
  {
   "cell_type": "code",
   "execution_count": 19,
   "metadata": {},
   "outputs": [
    {
     "data": {
      "text/plain": [
       "'123onetwothree'"
      ]
     },
     "execution_count": 19,
     "metadata": {},
     "output_type": "execute_result"
    }
   ],
   "source": [
    "n=int(input(\"enter number of digits\"))\n",
    "num=str(input(\"enter the value\"))\n",
    "def fn(num,n):\n",
    "    str=num\n",
    "    for i in range(0,n):\n",
    "        if num[i]==\"0\":\n",
    "            str=str+\"zero\"\n",
    "        elif num[i]==\"1\":\n",
    "            str=str+\"one\"\n",
    "        elif num[i]==\"2\":\n",
    "           str=str+\"two\"\n",
    "        elif num[i]==\"3\":\n",
    "            str=str+\"three\"\n",
    "        elif num[i]==\"4\":\n",
    "            str=str+\"four\"\n",
    "        elif num[i]==\"5\":\n",
    "            str=str+\"five\"\n",
    "        elif num[i]==\"6\":\n",
    "            str=str+\"six\"\n",
    "        elif num[i]==\"7\":\n",
    "            str=str+\"seven\"\n",
    "        elif num[i]==\"8\":\n",
    "            str=str+\"eight\"  \n",
    "        else:\n",
    "            str=str+\"zero\"\n",
    "    return str\n",
    "fn(num,n)"
   ]
  },
  {
   "cell_type": "code",
   "execution_count": 13,
   "metadata": {},
   "outputs": [
    {
     "ename": "IndentationError",
     "evalue": "expected an indented block after 'for' statement on line 19 (823882194.py, line 20)",
     "output_type": "error",
     "traceback": [
      "\u001b[1;36m  Cell \u001b[1;32mIn[13], line 20\u001b[1;36m\u001b[0m\n\u001b[1;33m    s = s + list[i]\u001b[0m\n\u001b[1;37m    ^\u001b[0m\n\u001b[1;31mIndentationError\u001b[0m\u001b[1;31m:\u001b[0m expected an indented block after 'for' statement on line 19\n"
     ]
    }
   ],
   "source": [
    "list = [761, 123, 585, 275, 194, 840, 999, 622, 763, 40, 825, 687, 402, 338, 611, 987, 739, 95, 819, 568, 320, 126, 688, 948, 514, 223, 751, 379, 857, 767, 492, 162, 437, 934, 430, 343, 725, 511, 580, 678, 708, 823, 346, 179, 786, 663, 195, 890, 267, 502, 214, 300, 786, 961, 235, 559, 992, 919, 948, 318, 57, 787, 653, 317, 305, 172, 966, 182, 970, 17, 89, 624, 629, 595, 485, 752, 984, 978, 460, 124, 321, 256, 614, 852, 811, 561, 127, 207, 406, 615, 888, 391, 691, 470, 911, 401, 137, 600, 478, 682]\n",
    "def length(list):\n",
    "    count = 0\n",
    "    for i in list:\n",
    "        count = count + 1\n",
    "    return count\n",
    "def sortlist(list):\n",
    "    sl = []\n",
    "    for i in range(0,length(list)):\n",
    "        for j in range(i+1,length(list)):\n",
    "            if(list[i] >= list[j]):\n",
    "                temp = list[i]\n",
    "                list[i] = list[j]\n",
    "                list[j] = temp\n",
    "            sl.append(list[i])\n",
    "    return sl\n",
    "def mean(list):\n",
    "    s = 0\n",
    "    for i in range(length(list)):\n",
    "        s = s + list[i]\n",
    "        m = s/(length(list))\n",
    "        return m \n",
    "print(mean(list))\n",
    "def max(list):\n",
    "    "
   ]
  },
  {
   "cell_type": "code",
   "execution_count": null,
   "metadata": {},
   "outputs": [],
   "source": []
  },
  {
   "cell_type": "code",
   "execution_count": null,
   "metadata": {},
   "outputs": [],
   "source": []
  }
 ],
 "metadata": {
  "kernelspec": {
   "display_name": "Python 3",
   "language": "python",
   "name": "python3"
  },
  "language_info": {
   "codemirror_mode": {
    "name": "ipython",
    "version": 3
   },
   "file_extension": ".py",
   "mimetype": "text/x-python",
   "name": "python",
   "nbconvert_exporter": "python",
   "pygments_lexer": "ipython3",
   "version": "3.11.4"
  },
  "orig_nbformat": 4
 },
 "nbformat": 4,
 "nbformat_minor": 2
}
