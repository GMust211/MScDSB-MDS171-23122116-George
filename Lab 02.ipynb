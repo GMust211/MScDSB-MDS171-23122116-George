{
 "cells": [
  {
   "cell_type": "code",
   "execution_count": 22,
   "metadata": {},
   "outputs": [
    {
     "name": "stdout",
     "output_type": "stream",
     "text": [
      "Number Entered was :  98\n",
      "Converted to word it becomes:  98nineeight\n"
     ]
    }
   ],
   "source": [
    "arr = ['zero','one','two','three','four','five','six','seven','eight','nine']\n",
    " \n",
    "def number_2_word(n):\n",
    "    str_ret = n\n",
    "    for x in n:\n",
    "        str_ret+=arr[int(x)]\n",
    "    return str_ret\n",
    " \n",
    "n = input()\n",
    "print(\"Number Entered was : \", n)\n",
    "print(\"Converted to word it becomes: \", number_2_word(n))"
   ]
  },
  {
   "cell_type": "code",
   "execution_count": 19,
   "metadata": {},
   "outputs": [
    {
     "data": {
      "text/plain": [
       "'123onetwothree'"
      ]
     },
     "execution_count": 19,
     "metadata": {},
     "output_type": "execute_result"
    }
   ],
   "source": [
    "n=int(input(\"enter number of digits\"))\n",
    "num=str(input(\"enter the value\"))\n",
    "def fn(num,n):\n",
    "    str=num\n",
    "    for i in range(0,n):\n",
    "        if num[i]==\"0\":\n",
    "            str=str+\"zero\"\n",
    "        elif num[i]==\"1\":\n",
    "            str=str+\"one\"\n",
    "        elif num[i]==\"2\":\n",
    "           str=str+\"two\"\n",
    "        elif num[i]==\"3\":\n",
    "            str=str+\"three\"\n",
    "        elif num[i]==\"4\":\n",
    "            str=str+\"four\"\n",
    "        elif num[i]==\"5\":\n",
    "            str=str+\"five\"\n",
    "        elif num[i]==\"6\":\n",
    "            str=str+\"six\"\n",
    "        elif num[i]==\"7\":\n",
    "            str=str+\"seven\"\n",
    "        elif num[i]==\"8\":\n",
    "            str=str+\"eight\"  \n",
    "        else:\n",
    "            str=str+\"zero\"\n",
    "    return str\n",
    "fn(num,n)"
   ]
  },
  {
   "cell_type": "code",
   "execution_count": null,
   "metadata": {},
   "outputs": [],
   "source": []
  },
  {
   "cell_type": "code",
   "execution_count": null,
   "metadata": {},
   "outputs": [],
   "source": []
  }
 ],
 "metadata": {
  "kernelspec": {
   "display_name": "Python 3",
   "language": "python",
   "name": "python3"
  },
  "language_info": {
   "codemirror_mode": {
    "name": "ipython",
    "version": 3
   },
   "file_extension": ".py",
   "mimetype": "text/x-python",
   "name": "python",
   "nbconvert_exporter": "python",
   "pygments_lexer": "ipython3",
   "version": "3.11.4"
  },
  "orig_nbformat": 4
 },
 "nbformat": 4,
 "nbformat_minor": 2
}
