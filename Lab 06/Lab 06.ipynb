{
 "cells": [
  {
   "cell_type": "markdown",
   "metadata": {},
   "source": [
    "Items to be stored in the CSV file"
   ]
  },
  {
   "cell_type": "code",
   "execution_count": 53,
   "metadata": {},
   "outputs": [],
   "source": [
    "items = [\"Apple\", \"Bananas\", \"Oranges\", \"Milk\", \"Eggs\", \"Bread\", \"Potatoes\", \"Chicken\", \"Rice\", \"Pasta\"]\n",
    "quantity = [\"100\",\"210\",\"180\",\"85\",\"300\",\"120\",\"450\",\"10\",\"30\",\"600\"]\n",
    "price = [\"35\",\"25\",\"15\",\"26\",\"10\",\"40\",\"85\",\"125\",\"30\",\"100\"]\n",
    "\n",
    "import random\n",
    "r1=random.randint(0,9)\n",
    "r2=random.randint(0,9)\n",
    "r3=random.randint(0,9)\n",
    "\n",
    "#Storing it in a csv file\n",
    "with open(\"23122116.csv\",\"w+\") as file:\n",
    "    for i in range(0,100):\n",
    "        r1=random.randint(0,9)\n",
    "        r2=random.randint(0,9)\n",
    "        r3=random.randint(0,9)\n",
    "        file.write(items[r1]+\",\"+quantity[r2]+\",\"+price[r3]+\"\\n\")\n",
    "file.close()"
   ]
  },
  {
   "cell_type": "markdown",
   "metadata": {},
   "source": [
    "The total cost for each row, display the result from the first 5 rows and the last 10 rows"
   ]
  },
  {
   "cell_type": "code",
   "execution_count": 65,
   "metadata": {},
   "outputs": [
    {
     "name": "stdout",
     "output_type": "stream",
     "text": [
      "Oranges 450 10\n",
      " 4500\n",
      "Bananas 300 85\n",
      " 25500\n",
      "Bananas 85 85\n",
      " 7225\n",
      "Oranges 450 85\n",
      " 38250\n",
      "Milk 100 26\n",
      " 2600\n",
      "Chicken 600 15\n",
      " 9000\n",
      "Rice 210 25\n",
      " 5250\n",
      "Pasta 600 30\n",
      " 18000\n",
      "Potatoes 100 25\n",
      " 2500\n",
      "Eggs 450 15\n",
      " 6750\n",
      "Potatoes 10 10\n",
      " 100\n",
      "Potatoes 450 25\n",
      " 11250\n",
      "Apple 210 25\n",
      " 5250\n",
      "Pasta 85 26\n",
      " 2210\n",
      "Apple 300 25\n",
      " 7500\n"
     ]
    }
   ],
   "source": [
    "#We're defining a function to calculate the total cost\n",
    "def total_cost():\n",
    "    f=0\n",
    "    for i in open(\"23122116.csv\",\"r+\").readlines():\n",
    "        rv=i.split(\",\")\n",
    "        f=f+1\n",
    "        if f<=5 or f>=91:\n",
    "            print(rv[0],rv[1],rv[2],int(rv[1])*int(rv[2]))\n",
    "total_cost()"
   ]
  },
  {
   "cell_type": "markdown",
   "metadata": {},
   "source": [
    "Print the minimum & maximum price for each item sold"
   ]
  },
  {
   "cell_type": "code",
   "execution_count": 64,
   "metadata": {},
   "outputs": [
    {
     "name": "stdout",
     "output_type": "stream",
     "text": [
      "Item Name: Rice | Total Quantity: 12 | Total: $60.84\n",
      "Minimum Price: $1.32 | Maximum Price: $6.19\n",
      "\n",
      "Item Name: Bread | Total Quantity: 30 | Total: $78.30\n",
      "Minimum Price: $1.32 | Maximum Price: $6.19\n",
      "\n",
      "Item Name: Pasta | Total Quantity: 11 | Total: $54.12\n",
      "Minimum Price: $1.32 | Maximum Price: $6.19\n",
      "\n",
      "Item Name: Apple | Total Quantity: 45 | Total: $59.40\n",
      "Minimum Price: $1.32 | Maximum Price: $6.19\n",
      "\n",
      "Item Name: Eggs | Total Quantity: 108 | Total: $317.52\n",
      "Minimum Price: $1.32 | Maximum Price: $6.19\n",
      "\n",
      "Item Name: Banana | Total Quantity: 28 | Total: $68.88\n",
      "Minimum Price: $1.32 | Maximum Price: $6.19\n",
      "\n",
      "Item Name: Chicken | Total Quantity: 117 | Total: $287.82\n",
      "Minimum Price: $1.32 | Maximum Price: $6.19\n",
      "\n",
      "Item Name: Orange | Total Quantity: 20 | Total: $123.80\n",
      "Minimum Price: $1.32 | Maximum Price: $6.19\n",
      "\n",
      "Item Name: Milk | Total Quantity: 20 | Total: $41.00\n",
      "Minimum Price: $1.32 | Maximum Price: $6.19\n",
      "\n",
      "Item Name: Cereal | Total Quantity: 50 | Total: $203.50\n",
      "Minimum Price: $1.32 | Maximum Price: $6.19\n",
      "\n"
     ]
    }
   ],
   "source": [
    "# Print the minimum and maximum price for each item sold\n",
    "for item, item_data in item_totals.items():\n",
    "    item_quantity = item_data[\"Quantity\"]\n",
    "    item_total = item_data[\"Total\"]\n",
    "    print(f\"Item Name: {item} | Total Quantity: {item_quantity} | Total: ${item_total:.2f}\")\n",
    "    print(f\"Minimum Price: ${min(prices):.2f} | Maximum Price: ${max(prices):.2f}\")\n",
    "    print()\n"
   ]
  },
  {
   "cell_type": "code",
   "execution_count": null,
   "metadata": {},
   "outputs": [],
   "source": []
  }
 ],
 "metadata": {
  "kernelspec": {
   "display_name": "Python 3",
   "language": "python",
   "name": "python3"
  },
  "language_info": {
   "name": "python",
   "version": "3.11.4"
  },
  "orig_nbformat": 4
 },
 "nbformat": 4,
 "nbformat_minor": 2
}
